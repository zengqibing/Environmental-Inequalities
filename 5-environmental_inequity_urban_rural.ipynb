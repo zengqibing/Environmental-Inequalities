{
 "cells": [
  {
   "cell_type": "code",
   "execution_count": 1,
   "id": "37d46153",
   "metadata": {},
   "outputs": [],
   "source": [
    "# https://xgboost.readthedocs.io/en/stable/tutorials/categorical.html\n",
    "%matplotlib inline\n",
    "import os, itertools, pickle\n",
    "import numpy as np\n",
    "import pandas as pd\n",
    "\n",
    "import statsmodels.formula.api as smf\n",
    "\n",
    "from sklearn import impute, preprocessing\n",
    "\n",
    "\n",
    "import matplotlib as mpl\n",
    "import matplotlib.pyplot as plt\n",
    "import seaborn as sns\n",
    "\n",
    "#import xgboost as xgb\n",
    "\n",
    "# pip install statsmodels\n",
    "\n",
    "RAWDATA_PATH = \"../rawData/\""
   ]
  },
  {
   "cell_type": "code",
   "execution_count": 2,
   "id": "57cb5ace",
   "metadata": {},
   "outputs": [],
   "source": [
    "#raw_data = pd.read_csv(os.path.join(RAWDATA_PATH, \"all_analysis_data.tsv\"), sep=\"\\t\")\n",
    "with open(os.path.join(RAWDATA_PATH, \"analysis_data_no_scale.pickle\"), \"rb\") as f:\n",
    "    raw_data = pickle.load(f)\n",
    "    \n",
    "raw_data[\"Household\"].replace({'统一居民户口':\"URPR\", \n",
    "                               '非农业户口':\"NARPR\", \n",
    "                               '农业户口':\"ARPR\", '没有户口':np.nan}, inplace=True)\n",
    "raw_data = raw_data.dropna(subset=\"Household\")"
   ]
  },
  {
   "cell_type": "code",
   "execution_count": 4,
   "id": "f6099edf",
   "metadata": {},
   "outputs": [],
   "source": [
    "env_list = [\n",
    "            \"PM25\", \"O3\", \"NO2\", \"NDVI_250\", \"NDVI_500\", \"NDVI_1000\", \"PM10_wj\"\n",
    "           ]\n",
    "\n",
    "for item in env_list:\n",
    "    sns.set(font_scale=1.2, rc={'figure.figsize':(12,8)}, style=\"white\")\n",
    "    g = sns.histplot(data=raw_data, x=item, hue=\"Household\", kde=True)\n",
    "    \n",
    "    g.spines.right.set_visible(False)\n",
    "    g.spines.top.set_visible(False)\n",
    "    \n",
    "    sns.move_legend(g, loc=\"best\", title=None, frameon=False)\n",
    "    plt.savefig(\"./plotFigure/{}_urban_and_rural_density.pdf\".format(item), format=\"pdf\", bbox_inches=\"tight\", transparent=True)\n",
    "    plt.close()"
   ]
  },
  {
   "cell_type": "code",
   "execution_count": null,
   "id": "70edaca0",
   "metadata": {},
   "outputs": [],
   "source": []
  },
  {
   "cell_type": "code",
   "execution_count": null,
   "id": "a7794d58",
   "metadata": {},
   "outputs": [],
   "source": []
  },
  {
   "cell_type": "code",
   "execution_count": null,
   "id": "8453082e",
   "metadata": {},
   "outputs": [],
   "source": []
  }
 ],
 "metadata": {
  "kernelspec": {
   "display_name": "Python 3 (ipykernel)",
   "language": "python",
   "name": "python3"
  },
  "language_info": {
   "codemirror_mode": {
    "name": "ipython",
    "version": 3
   },
   "file_extension": ".py",
   "mimetype": "text/x-python",
   "name": "python",
   "nbconvert_exporter": "python",
   "pygments_lexer": "ipython3",
   "version": "3.8.0"
  }
 },
 "nbformat": 4,
 "nbformat_minor": 5
}
