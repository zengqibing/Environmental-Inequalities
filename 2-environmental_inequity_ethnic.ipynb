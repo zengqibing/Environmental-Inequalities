{
 "cells": [
  {
   "cell_type": "code",
   "execution_count": 1,
   "id": "5f8ca9c4",
   "metadata": {},
   "outputs": [],
   "source": [
    "# https://xgboost.readthedocs.io/en/stable/tutorials/categorical.html\n",
    "%matplotlib inline\n",
    "import os, itertools, pickle\n",
    "import numpy as np\n",
    "import pandas as pd\n",
    "\n",
    "import statsmodels.formula.api as smf\n",
    "\n",
    "from sklearn import impute, preprocessing\n",
    "\n",
    "import matplotlib as mpl\n",
    "import matplotlib.pyplot as plt\n",
    "import seaborn as sns\n",
    "\n",
    "#import xgboost as xgb\n",
    "\n",
    "# pip install statsmodels\n",
    "\n",
    "RAWDATA_PATH = \"../rawData/\""
   ]
  },
  {
   "cell_type": "code",
   "execution_count": null,
   "id": "6df38648",
   "metadata": {},
   "outputs": [],
   "source": [
    "#raw_data = pd.read_csv(os.path.join(RAWDATA_PATH, \"all_analysis_data.tsv\"), sep=\"\\t\")\n",
    "with open(os.path.join(RAWDATA_PATH, \"analysis_data_no_scale.pickle\"), \"rb\") as f:\n",
    "    raw_data = pickle.load(f)\n",
    "    \n",
    "raw_data[\"Ethnic\"].replace({0:\"Han\", 1:\"Tibetan\", 2:\"Dong\", 3:\"Bai\", 4:\"Yi\", 5:\"Buyi\", 6:\"Miao\"}, inplace=True)\n",
    "raw_data.loc[raw_data[\"CCI\"]>10, \"CCI\"] = 11\n",
    "\n",
    "raw_data[\"Ethnic\"] = raw_data[\"Ethnic\"].astype(object)\n",
    "raw_data.loc[(raw_data[\"province_english\"].isin(['Chongqing', 'Sichuan']))&(raw_data[\"Ethnic\"]==\"Han\"), \"Ethnic\"] = \"Basin_Han\"\n",
    "raw_data.loc[raw_data[\"province_english\"].isin(['Yunnan'])&(raw_data[\"Ethnic\"]==\"Han\"), \"Ethnic\"] = \"Plateau_Han\"\n",
    "raw_data[\"Ethnic\"] = raw_data[\"Ethnic\"].astype(\"category\")\n",
    "raw_data[\"Ethnic\"] = raw_data[\"Ethnic\"].cat.set_categories(['Basin_Han', 'Plateau_Han','Tibetan','Dong','Bai','Yi','Buyi','Miao'], ordered=True)"
   ]
  },
  {
   "cell_type": "code",
   "execution_count": 3,
   "id": "583ce5c9",
   "metadata": {},
   "outputs": [],
   "source": [
    "env_list = [\n",
    "            \"PM25\", \"NO2\", \"O3\", \"NDVI_250\", \"NDVI_500\", \"NDVI_1000\", \"PM10_wj\"\n",
    "           ]\n",
    "\n",
    "for item in env_list:\n",
    "    sns.set(font_scale=1.2, rc={'figure.figsize':(12,8)}, style=\"white\")\n",
    "    g = sns.histplot(data=raw_data, x=item, hue=\"Ethnic\", kde=True)\n",
    "    \n",
    "    g.spines.right.set_visible(False)\n",
    "    g.spines.top.set_visible(False)\n",
    "    \n",
    "    sns.move_legend(g, loc=\"best\", frameon=False)\n",
    "    plt.savefig(\"./plotFigure/{}_ethnic_density.pdf\".format(item), format=\"pdf\", bbox_inches=\"tight\", transparent=True)\n",
    "    plt.close()"
   ]
  },
  {
   "cell_type": "code",
   "execution_count": null,
   "id": "f39eb369",
   "metadata": {},
   "outputs": [],
   "source": []
  },
  {
   "cell_type": "code",
   "execution_count": null,
   "id": "e1b2a5c4",
   "metadata": {},
   "outputs": [],
   "source": []
  },
  {
   "cell_type": "code",
   "execution_count": null,
   "id": "43efb858",
   "metadata": {},
   "outputs": [],
   "source": []
  }
 ],
 "metadata": {
  "kernelspec": {
   "display_name": "Python 3 (ipykernel)",
   "language": "python",
   "name": "python3"
  },
  "language_info": {
   "codemirror_mode": {
    "name": "ipython",
    "version": 3
   },
   "file_extension": ".py",
   "mimetype": "text/x-python",
   "name": "python",
   "nbconvert_exporter": "python",
   "pygments_lexer": "ipython3",
   "version": "3.8.0"
  }
 },
 "nbformat": 4,
 "nbformat_minor": 5
}
